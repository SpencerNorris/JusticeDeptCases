{
 "cells": [
  {
   "cell_type": "markdown",
   "metadata": {},
   "source": [
    "Acquired full statistical datasets distributed by the Dept. of Justice, can probably tease something out of the dates in connection with the different classes of cases.\n",
    "\n",
    "**Questions**:\n",
    "- What kinds of cases have ebbed and flowed over time?\n",
    "- Are certain districts responsible for more of one type of crime than the other?\n",
    "    - Can we drill down into the reasons that might surround those disparities?\n",
    "    - How granular can we get? e.g. How big are the districts and what can we learn from the geographic separation?"
   ]
  },
  {
   "cell_type": "code",
   "execution_count": 4,
   "metadata": {},
   "outputs": [],
   "source": [
    "import pandas as pd\n",
    "from sklearn.linear_model import LinearRegression\n"
   ]
  },
  {
   "cell_type": "code",
   "execution_count": null,
   "metadata": {},
   "outputs": [],
   "source": []
  }
 ],
 "metadata": {
  "kernelspec": {
   "display_name": "Python 3",
   "language": "python",
   "name": "python3"
  },
  "language_info": {
   "codemirror_mode": {
    "name": "ipython",
    "version": 3
   },
   "file_extension": ".py",
   "mimetype": "text/x-python",
   "name": "python",
   "nbconvert_exporter": "python",
   "pygments_lexer": "ipython3",
   "version": "3.6.4"
  }
 },
 "nbformat": 4,
 "nbformat_minor": 2
}
